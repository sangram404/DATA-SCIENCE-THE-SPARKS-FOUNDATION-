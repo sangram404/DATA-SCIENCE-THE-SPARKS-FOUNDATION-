{
  "nbformat": 4,
  "nbformat_minor": 0,
  "metadata": {
    "colab": {
      "name": "Prediction using Supervised ML.ipynb",
      "provenance": [],
      "collapsed_sections": []
    },
    "kernelspec": {
      "name": "python3",
      "display_name": "Python 3"
    },
    "language_info": {
      "name": "python"
    }
  },
  "cells": [
    {
      "cell_type": "markdown",
      "metadata": {
        "id": "cfeC9FqHp13J"
      },
      "source": [
        "**Prediction using Supervised ML\n",
        "(Student's Percentage Prediction Model )**"
      ]
    },
    {
      "cell_type": "markdown",
      "metadata": {
        "id": "d4nzKYSBp20-"
      },
      "source": [
        "**Name : Sangram Dhame.**"
      ]
    },
    {
      "cell_type": "markdown",
      "metadata": {
        "id": "RL9g3I0xzVF1"
      },
      "source": [
        "**Email ID : sangramdhame1972@gmail.com**"
      ]
    },
    {
      "cell_type": "markdown",
      "metadata": {
        "id": "kOWgad6fzWiI"
      },
      "source": [
        "**Github Profile : https://github.com/sangram404**"
      ]
    },
    {
      "cell_type": "markdown",
      "metadata": {
        "id": "y78dA-AhzYRO"
      },
      "source": [
        "**Linkedin Profile : https://www.linkedin.com/in/sangram-dhame-625a191a8/**"
      ]
    },
    {
      "cell_type": "markdown",
      "metadata": {
        "id": "F1BWRAX3zZx0"
      },
      "source": [
        "**Here I am importing the required library for model**"
      ]
    },
    {
      "cell_type": "code",
      "metadata": {
        "id": "K-sbTDinra8p"
      },
      "source": [
        "import numpy as np\n",
        "import pandas as pd\n",
        "import matplotlib.pyplot as plt\n",
        "%matplotlib inline"
      ],
      "execution_count": null,
      "outputs": []
    },
    {
      "cell_type": "markdown",
      "metadata": {
        "id": "0wxHte2qrfqv"
      },
      "source": [
        "**Reading the dataset**"
      ]
    },
    {
      "cell_type": "code",
      "metadata": {
        "id": "pJ0h7306riSk"
      },
      "source": [
        "student_data = pd.read_csv('student_scores.csv')"
      ],
      "execution_count": null,
      "outputs": []
    },
    {
      "cell_type": "markdown",
      "metadata": {
        "id": "FlnVG6ZDrnAn"
      },
      "source": [
        "**Getting the initial five values from Dataset**"
      ]
    },
    {
      "cell_type": "code",
      "metadata": {
        "id": "c15ekdV7rrH8",
        "colab": {
          "base_uri": "https://localhost:8080/",
          "height": 204
        },
        "outputId": "69f6f836-9c71-41ef-dc62-bf9cf16b6990"
      },
      "source": [
        "student_data.head()\n"
      ],
      "execution_count": null,
      "outputs": [
        {
          "output_type": "execute_result",
          "data": {
            "text/html": [
              "<div>\n",
              "<style scoped>\n",
              "    .dataframe tbody tr th:only-of-type {\n",
              "        vertical-align: middle;\n",
              "    }\n",
              "\n",
              "    .dataframe tbody tr th {\n",
              "        vertical-align: top;\n",
              "    }\n",
              "\n",
              "    .dataframe thead th {\n",
              "        text-align: right;\n",
              "    }\n",
              "</style>\n",
              "<table border=\"1\" class=\"dataframe\">\n",
              "  <thead>\n",
              "    <tr style=\"text-align: right;\">\n",
              "      <th></th>\n",
              "      <th>Hours</th>\n",
              "      <th>Scores</th>\n",
              "    </tr>\n",
              "  </thead>\n",
              "  <tbody>\n",
              "    <tr>\n",
              "      <th>0</th>\n",
              "      <td>2.5</td>\n",
              "      <td>21</td>\n",
              "    </tr>\n",
              "    <tr>\n",
              "      <th>1</th>\n",
              "      <td>5.1</td>\n",
              "      <td>47</td>\n",
              "    </tr>\n",
              "    <tr>\n",
              "      <th>2</th>\n",
              "      <td>3.2</td>\n",
              "      <td>27</td>\n",
              "    </tr>\n",
              "    <tr>\n",
              "      <th>3</th>\n",
              "      <td>8.5</td>\n",
              "      <td>75</td>\n",
              "    </tr>\n",
              "    <tr>\n",
              "      <th>4</th>\n",
              "      <td>3.5</td>\n",
              "      <td>30</td>\n",
              "    </tr>\n",
              "  </tbody>\n",
              "</table>\n",
              "</div>"
            ],
            "text/plain": [
              "   Hours  Scores\n",
              "0    2.5      21\n",
              "1    5.1      47\n",
              "2    3.2      27\n",
              "3    8.5      75\n",
              "4    3.5      30"
            ]
          },
          "metadata": {
            "tags": []
          },
          "execution_count": 16
        }
      ]
    },
    {
      "cell_type": "markdown",
      "metadata": {
        "id": "wY4OiSMksBZb"
      },
      "source": [
        "**Describing the data**"
      ]
    },
    {
      "cell_type": "code",
      "metadata": {
        "id": "2kFl3vmMsC6t",
        "colab": {
          "base_uri": "https://localhost:8080/",
          "height": 297
        },
        "outputId": "0728de5a-6a31-4989-c464-3db9267d785f"
      },
      "source": [
        "student_data.describe()"
      ],
      "execution_count": null,
      "outputs": [
        {
          "output_type": "execute_result",
          "data": {
            "text/html": [
              "<div>\n",
              "<style scoped>\n",
              "    .dataframe tbody tr th:only-of-type {\n",
              "        vertical-align: middle;\n",
              "    }\n",
              "\n",
              "    .dataframe tbody tr th {\n",
              "        vertical-align: top;\n",
              "    }\n",
              "\n",
              "    .dataframe thead th {\n",
              "        text-align: right;\n",
              "    }\n",
              "</style>\n",
              "<table border=\"1\" class=\"dataframe\">\n",
              "  <thead>\n",
              "    <tr style=\"text-align: right;\">\n",
              "      <th></th>\n",
              "      <th>Hours</th>\n",
              "      <th>Scores</th>\n",
              "    </tr>\n",
              "  </thead>\n",
              "  <tbody>\n",
              "    <tr>\n",
              "      <th>count</th>\n",
              "      <td>25.000000</td>\n",
              "      <td>25.000000</td>\n",
              "    </tr>\n",
              "    <tr>\n",
              "      <th>mean</th>\n",
              "      <td>5.012000</td>\n",
              "      <td>51.480000</td>\n",
              "    </tr>\n",
              "    <tr>\n",
              "      <th>std</th>\n",
              "      <td>2.525094</td>\n",
              "      <td>25.286887</td>\n",
              "    </tr>\n",
              "    <tr>\n",
              "      <th>min</th>\n",
              "      <td>1.100000</td>\n",
              "      <td>17.000000</td>\n",
              "    </tr>\n",
              "    <tr>\n",
              "      <th>25%</th>\n",
              "      <td>2.700000</td>\n",
              "      <td>30.000000</td>\n",
              "    </tr>\n",
              "    <tr>\n",
              "      <th>50%</th>\n",
              "      <td>4.800000</td>\n",
              "      <td>47.000000</td>\n",
              "    </tr>\n",
              "    <tr>\n",
              "      <th>75%</th>\n",
              "      <td>7.400000</td>\n",
              "      <td>75.000000</td>\n",
              "    </tr>\n",
              "    <tr>\n",
              "      <th>max</th>\n",
              "      <td>9.200000</td>\n",
              "      <td>95.000000</td>\n",
              "    </tr>\n",
              "  </tbody>\n",
              "</table>\n",
              "</div>"
            ],
            "text/plain": [
              "           Hours     Scores\n",
              "count  25.000000  25.000000\n",
              "mean    5.012000  51.480000\n",
              "std     2.525094  25.286887\n",
              "min     1.100000  17.000000\n",
              "25%     2.700000  30.000000\n",
              "50%     4.800000  47.000000\n",
              "75%     7.400000  75.000000\n",
              "max     9.200000  95.000000"
            ]
          },
          "metadata": {
            "tags": []
          },
          "execution_count": 17
        }
      ]
    },
    {
      "cell_type": "markdown",
      "metadata": {
        "id": "TNvUNEjCsF2T"
      },
      "source": [
        "**Dimension of the DataFrame**"
      ]
    },
    {
      "cell_type": "code",
      "metadata": {
        "id": "0K3HH74esJz1",
        "colab": {
          "base_uri": "https://localhost:8080/"
        },
        "outputId": "8436acb4-b548-42ac-9e76-d48accb62121"
      },
      "source": [
        "student_data.shape"
      ],
      "execution_count": null,
      "outputs": [
        {
          "output_type": "execute_result",
          "data": {
            "text/plain": [
              "(25, 2)"
            ]
          },
          "metadata": {
            "tags": []
          },
          "execution_count": 18
        }
      ]
    },
    {
      "cell_type": "markdown",
      "metadata": {
        "id": "yovakH5GsL4_"
      },
      "source": [
        "**Graphical view of the data**"
      ]
    },
    {
      "cell_type": "code",
      "metadata": {
        "id": "V_p99zkAsO1O",
        "colab": {
          "base_uri": "https://localhost:8080/",
          "height": 295
        },
        "outputId": "6ca0109f-d176-4da3-910b-a3c1eb1d2615"
      },
      "source": [
        "student_data.plot(x='Hours', y='Scores', style='*') \n",
        "plt.title('Hrs Studied vs Percentage Score')\n",
        "plt.xlabel('Hours student studied')\n",
        "plt.ylabel('% of student\\'s score') \n",
        "plt.show()"
      ],
      "execution_count": null,
      "outputs": [
        {
          "output_type": "display_data",
          "data": {
            "image/png": "[encoded data removed]",
            "text/plain": [
              "<Figure size 432x288 with 1 Axes>"
            ]
          },
          "metadata": {
            "tags": [],
            "needs_background": "light"
          }
        }
      ]
    },
    {
      "cell_type": "markdown",
      "metadata": {
        "id": "3H5CqUhTsRB5"
      },
      "source": [
        "**Spliting the data into input and output**"
      ]
    },
    {
      "cell_type": "code",
      "metadata": {
        "id": "bYmGBC-psUDN"
      },
      "source": [
        "X = student_data.iloc[:,:-1].values\n",
        "y = student_data.iloc[:, 1].values"
      ],
      "execution_count": null,
      "outputs": []
    },
    {
      "cell_type": "markdown",
      "metadata": {
        "id": "i3eWSZ8EsWkU"
      },
      "source": [
        "**Divide the data into train and test dataset**"
      ]
    },
    {
      "cell_type": "code",
      "metadata": {
        "id": "lnjM8AbNsZ43"
      },
      "source": [
        "from sklearn.model_selection import train_test_split\n",
        "X_train, X_test, y_train, y_test =  train_test_split(X,y,test_size=0.3,random_state=0)"
      ],
      "execution_count": null,
      "outputs": []
    },
    {
      "cell_type": "markdown",
      "metadata": {
        "id": "Kazy99CRsdBd"
      },
      "source": [
        "**Fitting Linear Regression to the Training set**"
      ]
    },
    {
      "cell_type": "code",
      "metadata": {
        "id": "SpVR7U-Wsirq",
        "colab": {
          "base_uri": "https://localhost:8080/"
        },
        "outputId": "66227590-b85c-4a1e-f3fc-0aa7002f8967"
      },
      "source": [
        "from sklearn.linear_model import LinearRegression\n",
        "linear_regression = LinearRegression()\n",
        "linear_regression.fit(X_train, y_train)"
      ],
      "execution_count": null,
      "outputs": [
        {
          "output_type": "execute_result",
          "data": {
            "text/plain": [
              "LinearRegression(copy_X=True, fit_intercept=True, n_jobs=None, normalize=False)"
            ]
          },
          "metadata": {
            "tags": []
          },
          "execution_count": 22
        }
      ]
    },
    {
      "cell_type": "markdown",
      "metadata": {
        "id": "dC8rLkS7sk3n"
      },
      "source": [
        "**Visualising the training data**"
      ]
    },
    {
      "cell_type": "code",
      "metadata": {
        "id": "ogY3SgxTspM2",
        "colab": {
          "base_uri": "https://localhost:8080/",
          "height": 295
        },
        "outputId": "3ddca5ca-d1d2-48ef-ed0e-3305d20c24cb"
      },
      "source": [
        "plt.scatter(X_train, y_train, color='blue')\n",
        "plt.plot(X_train, linear_regression.predict(X_train), color='red')\n",
        "plt.title('Hrs Studied vs Percentage Score')\n",
        "plt.xlabel('Hours student studied')\n",
        "plt.ylabel('% of student\\'s score') \n",
        "plt.show()"
      ],
      "execution_count": null,
      "outputs": [
        {
          "output_type": "display_data",
          "data": {
            "image/png": "[encoded data removed]",
            "text/plain": [
              "<Figure size 432x288 with 1 Axes>"
            ]
          },
          "metadata": {
            "tags": [],
            "needs_background": "light"
          }
        }
      ]
    },
    {
      "cell_type": "markdown",
      "metadata": {
        "id": "wdQWVh4Dssqp"
      },
      "source": [
        "**Visualising the testing data**"
      ]
    },
    {
      "cell_type": "code",
      "metadata": {
        "id": "9N899hlpswsQ",
        "colab": {
          "base_uri": "https://localhost:8080/",
          "height": 295
        },
        "outputId": "fa79807c-39a6-4be6-df04-b72eef32e7de"
      },
      "source": [
        "plt.scatter(X_test, y_test, color='blue')\n",
        "plt.plot(X_train, linear_regression.predict(X_train), color='red')\n",
        "plt.title('Hrs Studied vs Percentage Score')\n",
        "plt.xlabel('Hours student studied')\n",
        "plt.ylabel('% of student\\'s score') \n",
        "plt.show()"
      ],
      "execution_count": null,
      "outputs": [
        {
          "output_type": "display_data",
          "data": {
            "image/png": "[encoded data removed]",
            "text/plain": [
              "<Figure size 432x288 with 1 Axes>"
            ]
          },
          "metadata": {
            "tags": [],
            "needs_background": "light"
          }
        }
      ]
    },
    {
      "cell_type": "markdown",
      "metadata": {
        "id": "vu-TgO-ysxav"
      },
      "source": [
        "**Predicting the Test set results**"
      ]
    },
    {
      "cell_type": "code",
      "metadata": {
        "id": "JCVmCUdRs2SP",
        "colab": {
          "base_uri": "https://localhost:8080/"
        },
        "outputId": "ebc6f613-42ec-48fc-8392-6a0a121920da"
      },
      "source": [
        "y_pred = linear_regression.predict(X_test)\n",
        "y_pred"
      ],
      "execution_count": null,
      "outputs": [
        {
          "output_type": "execute_result",
          "data": {
            "text/plain": [
              "array([17.05366541, 33.69422878, 74.80620886, 26.8422321 , 60.12335883,\n",
              "       39.56736879, 20.96909209, 78.72163554])"
            ]
          },
          "metadata": {
            "tags": []
          },
          "execution_count": 25
        }
      ]
    },
    {
      "cell_type": "markdown",
      "metadata": {
        "id": "gvH11tCps31E"
      },
      "source": [
        "**Comparing the Actual and Predicted Value (in tabular form)**"
      ]
    },
    {
      "cell_type": "code",
      "metadata": {
        "id": "43_Dsojts_0J",
        "colab": {
          "base_uri": "https://localhost:8080/",
          "height": 297
        },
        "outputId": "1d3fc390-0baa-4a93-ccad-fa1c228b3f12"
      },
      "source": [
        "df = pd.DataFrame({'Actual Value': y_test, 'Predicted value': y_pred})  \n",
        "df"
      ],
      "execution_count": null,
      "outputs": [
        {
          "output_type": "execute_result",
          "data": {
            "text/html": [
              "<div>\n",
              "<style scoped>\n",
              "    .dataframe tbody tr th:only-of-type {\n",
              "        vertical-align: middle;\n",
              "    }\n",
              "\n",
              "    .dataframe tbody tr th {\n",
              "        vertical-align: top;\n",
              "    }\n",
              "\n",
              "    .dataframe thead th {\n",
              "        text-align: right;\n",
              "    }\n",
              "</style>\n",
              "<table border=\"1\" class=\"dataframe\">\n",
              "  <thead>\n",
              "    <tr style=\"text-align: right;\">\n",
              "      <th></th>\n",
              "      <th>Actual Value</th>\n",
              "      <th>Predicted value</th>\n",
              "    </tr>\n",
              "  </thead>\n",
              "  <tbody>\n",
              "    <tr>\n",
              "      <th>0</th>\n",
              "      <td>20</td>\n",
              "      <td>17.053665</td>\n",
              "    </tr>\n",
              "    <tr>\n",
              "      <th>1</th>\n",
              "      <td>27</td>\n",
              "      <td>33.694229</td>\n",
              "    </tr>\n",
              "    <tr>\n",
              "      <th>2</th>\n",
              "      <td>69</td>\n",
              "      <td>74.806209</td>\n",
              "    </tr>\n",
              "    <tr>\n",
              "      <th>3</th>\n",
              "      <td>30</td>\n",
              "      <td>26.842232</td>\n",
              "    </tr>\n",
              "    <tr>\n",
              "      <th>4</th>\n",
              "      <td>62</td>\n",
              "      <td>60.123359</td>\n",
              "    </tr>\n",
              "    <tr>\n",
              "      <th>5</th>\n",
              "      <td>35</td>\n",
              "      <td>39.567369</td>\n",
              "    </tr>\n",
              "    <tr>\n",
              "      <th>6</th>\n",
              "      <td>24</td>\n",
              "      <td>20.969092</td>\n",
              "    </tr>\n",
              "    <tr>\n",
              "      <th>7</th>\n",
              "      <td>86</td>\n",
              "      <td>78.721636</td>\n",
              "    </tr>\n",
              "  </tbody>\n",
              "</table>\n",
              "</div>"
            ],
            "text/plain": [
              "   Actual Value  Predicted value\n",
              "0            20        17.053665\n",
              "1            27        33.694229\n",
              "2            69        74.806209\n",
              "3            30        26.842232\n",
              "4            62        60.123359\n",
              "5            35        39.567369\n",
              "6            24        20.969092\n",
              "7            86        78.721636"
            ]
          },
          "metadata": {
            "tags": []
          },
          "execution_count": 26
        }
      ]
    },
    {
      "cell_type": "markdown",
      "metadata": {
        "id": "gk59UMUiu78h"
      },
      "source": [
        "**Visualizing the difference between Actual and Predicted Value**"
      ]
    },
    {
      "cell_type": "code",
      "metadata": {
        "colab": {
          "base_uri": "https://localhost:8080/",
          "height": 400
        },
        "id": "9woyFwG4u-1-",
        "outputId": "d2950955-c03f-424e-b1d7-8d943d726bb4"
      },
      "source": [
        "df.plot(kind=\"bar\", figsize=(6,6))\n",
        "plt.title('Hrs Studied vs Percentage Score')\n",
        "plt.xlabel('Hours student studied')\n",
        "plt.ylabel('% of student\\'s score') \n",
        "plt.show()"
      ],
      "execution_count": null,
      "outputs": [
        {
          "output_type": "display_data",
          "data": {
            "image/png": "[encoded data removed]",
            "text/plain": [
              "<Figure size 432x432 with 1 Axes>"
            ]
          },
          "metadata": {
            "tags": [],
            "needs_background": "light"
          }
        }
      ]
    },
    {
      "cell_type": "markdown",
      "metadata": {
        "id": "AwKTI-97vC6U"
      },
      "source": [
        "**Estimating training and test score**"
      ]
    },
    {
      "cell_type": "code",
      "metadata": {
        "colab": {
          "base_uri": "https://localhost:8080/"
        },
        "id": "PljmJy5cvFQe",
        "outputId": "3ff9bef6-f9a4-44a1-97e7-f4c118422aae"
      },
      "source": [
        "print(\"Training Score: \",linear_regression.score(X_train,y_train))\n",
        "print(\"Test Score: \",linear_regression.score(X_test,y_test))"
      ],
      "execution_count": null,
      "outputs": [
        {
          "output_type": "stream",
          "text": [
            "Training Score:  0.9484997422695115\n",
            "Test Score:  0.9568211104435257\n"
          ],
          "name": "stdout"
        }
      ]
    },
    {
      "cell_type": "markdown",
      "metadata": {
        "id": "di0-NhyivHaz"
      },
      "source": [
        "**Predicted score if a student studies for 9.25 hrs/ day**"
      ]
    },
    {
      "cell_type": "code",
      "metadata": {
        "colab": {
          "base_uri": "https://localhost:8080/"
        },
        "id": "bLg15V04vIvm",
        "outputId": "6dcab9d2-9239-4eef-c4a4-0f8ab7e35aff"
      },
      "source": [
        "hrs = [9.25] \n",
        "ans = linear_regression.predict([hrs])\n",
        "print(\"Hours student study = {}\".format(hrs))\n",
        "print(\"Predicted Score of student = {}\".format(ans[0]))"
      ],
      "execution_count": null,
      "outputs": [
        {
          "output_type": "stream",
          "text": [
            "Hours student study = [9.25]\n",
            "Predicted Score of student = 92.91505723477056\n"
          ],
          "name": "stdout"
        }
      ]
    },
    {
      "cell_type": "markdown",
      "metadata": {
        "id": "aGt1nvyuvNYC"
      },
      "source": [
        "**Finding the residuals : It is very important to calculate the performance of the model.**"
      ]
    },
    {
      "cell_type": "code",
      "metadata": {
        "colab": {
          "base_uri": "https://localhost:8080/"
        },
        "id": "Zg3NMAMsvQb_",
        "outputId": "e929e3a9-1273-4f60-f944-61f014007bb9"
      },
      "source": [
        "from sklearn import metrics\n",
        "print('Mean Absolute Error => ', metrics.mean_absolute_error(y_test,y_pred))\n",
        "print('Mean Square Error => ', metrics.mean_squared_error(y_test,y_pred))\n",
        "print('Root Mean Squred Error => ', np.sqrt(metrics.mean_squared_error(y_test,y_pred)))"
      ],
      "execution_count": null,
      "outputs": [
        {
          "output_type": "stream",
          "text": [
            "Mean Absolute Error =>  4.419727808027651\n",
            "Mean Square Error =>  22.965097212700428\n",
            "Root Mean Squred Error =>  4.7921912746363144\n"
          ],
          "name": "stdout"
        }
      ]
    },
    {
      "cell_type": "markdown",
      "metadata": {
        "id": "9351ERSEvUGh"
      },
      "source": [
        "**Result**"
      ]
    },
    {
      "cell_type": "markdown",
      "metadata": {
        "id": "LaitvcYevW3M"
      },
      "source": [
        "# **An approx. 93 (percent) is achieved by student if he studies for 9.25 hrs/day.**"
      ]
    },
    {
      "cell_type": "markdown",
      "metadata": {
        "id": "AdxD230Kvbsd"
      },
      "source": [
        "**Thank you**"
      ]
    }
  ]
}